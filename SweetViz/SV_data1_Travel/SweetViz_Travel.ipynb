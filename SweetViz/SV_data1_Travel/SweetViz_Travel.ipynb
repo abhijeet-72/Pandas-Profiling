{
 "cells": [
  {
   "cell_type": "code",
   "execution_count": 1,
   "id": "2049785e",
   "metadata": {},
   "outputs": [
    {
     "name": "stdout",
     "output_type": "stream",
     "text": [
      "Requirement already satisfied: sweetviz in c:\\users\\abhijeet\\anaconda3\\lib\\site-packages (2.1.4)\n",
      "Requirement already satisfied: jinja2>=2.11.1 in c:\\users\\abhijeet\\anaconda3\\lib\\site-packages (from sweetviz) (2.11.3)\n",
      "Requirement already satisfied: scipy>=1.3.2 in c:\\users\\abhijeet\\anaconda3\\lib\\site-packages (from sweetviz) (1.6.2)\n",
      "Requirement already satisfied: importlib-resources>=1.2.0 in c:\\users\\abhijeet\\anaconda3\\lib\\site-packages (from sweetviz) (5.9.0)\n",
      "Requirement already satisfied: matplotlib>=3.1.3 in c:\\users\\abhijeet\\anaconda3\\lib\\site-packages (from sweetviz) (3.3.4)\n",
      "Requirement already satisfied: pandas!=1.0.0,!=1.0.1,!=1.0.2,>=0.25.3 in c:\\users\\abhijeet\\anaconda3\\lib\\site-packages (from sweetviz) (1.2.4)\n",
      "Requirement already satisfied: tqdm>=4.43.0 in c:\\users\\abhijeet\\anaconda3\\lib\\site-packages (from sweetviz) (4.59.0)\n",
      "Requirement already satisfied: numpy>=1.16.0 in c:\\users\\abhijeet\\anaconda3\\lib\\site-packages (from sweetviz) (1.20.1)\n",
      "Requirement already satisfied: zipp>=3.1.0 in c:\\users\\abhijeet\\anaconda3\\lib\\site-packages (from importlib-resources>=1.2.0->sweetviz) (3.4.1)\n",
      "Requirement already satisfied: MarkupSafe>=0.23 in c:\\users\\abhijeet\\anaconda3\\lib\\site-packages (from jinja2>=2.11.1->sweetviz) (1.1.1)\n",
      "Requirement already satisfied: kiwisolver>=1.0.1 in c:\\users\\abhijeet\\anaconda3\\lib\\site-packages (from matplotlib>=3.1.3->sweetviz) (1.3.1)\n",
      "Requirement already satisfied: pyparsing!=2.0.4,!=2.1.2,!=2.1.6,>=2.0.3 in c:\\users\\abhijeet\\anaconda3\\lib\\site-packages (from matplotlib>=3.1.3->sweetviz) (2.4.7)\n",
      "Requirement already satisfied: python-dateutil>=2.1 in c:\\users\\abhijeet\\anaconda3\\lib\\site-packages (from matplotlib>=3.1.3->sweetviz) (2.8.1)\n",
      "Requirement already satisfied: cycler>=0.10 in c:\\users\\abhijeet\\anaconda3\\lib\\site-packages (from matplotlib>=3.1.3->sweetviz) (0.10.0)\n",
      "Requirement already satisfied: pillow>=6.2.0 in c:\\users\\abhijeet\\anaconda3\\lib\\site-packages (from matplotlib>=3.1.3->sweetviz) (8.2.0)\n",
      "Requirement already satisfied: six in c:\\users\\abhijeet\\anaconda3\\lib\\site-packages (from cycler>=0.10->matplotlib>=3.1.3->sweetviz) (1.15.0)\n",
      "Requirement already satisfied: pytz>=2017.3 in c:\\users\\abhijeet\\anaconda3\\lib\\site-packages (from pandas!=1.0.0,!=1.0.1,!=1.0.2,>=0.25.3->sweetviz) (2021.1)\n"
     ]
    }
   ],
   "source": [
    "!pip install sweetviz"
   ]
  },
  {
   "cell_type": "code",
   "execution_count": 2,
   "id": "5b96f32d",
   "metadata": {},
   "outputs": [],
   "source": [
    "import sweetviz\n",
    "import pandas as pd"
   ]
  },
  {
   "cell_type": "code",
   "execution_count": 3,
   "id": "36293d63",
   "metadata": {},
   "outputs": [],
   "source": [
    "Travel_file = pd.read_csv(r'C:\\Users\\Abhijeet\\Downloads\\JPYTR\\Prof\\SweetViz\\SV_data1_Travel\\Travel.csv')"
   ]
  },
  {
   "cell_type": "code",
   "execution_count": 4,
   "id": "d62d4f55",
   "metadata": {},
   "outputs": [
    {
     "data": {
      "application/vnd.jupyter.widget-view+json": {
       "model_id": "aa85dfa361b543a49da0cc6b1fa26cc0",
       "version_major": 2,
       "version_minor": 0
      },
      "text/plain": [
       "                                             |                                             | [  0%]   00:00 ->…"
      ]
     },
     "metadata": {},
     "output_type": "display_data"
    }
   ],
   "source": [
    "Travel_Report = sweetviz.analyze([Travel_file, \"Travel_File\"], target_feat='Passport')"
   ]
  },
  {
   "cell_type": "code",
   "execution_count": 5,
   "id": "3aae07ca",
   "metadata": {},
   "outputs": [
    {
     "name": "stdout",
     "output_type": "stream",
     "text": [
      "Report SV_Travel.html was generated! NOTEBOOK/COLAB USERS: the web browser MAY not pop up, regardless, the report IS saved in your notebook/colab files.\n"
     ]
    }
   ],
   "source": [
    "Travel_Report.show_html(\"SV_Travel.html\")"
   ]
  },
  {
   "cell_type": "code",
   "execution_count": 6,
   "id": "448fb613",
   "metadata": {},
   "outputs": [],
   "source": [
    "Clean_Travel = pd.read_csv(r'C:\\Users\\Abhijeet\\Downloads\\JPYTR\\Prof\\SweetViz\\SV_data1_Travel\\cleaned_travel.csv')"
   ]
  },
  {
   "cell_type": "code",
   "execution_count": 7,
   "id": "c9f15739",
   "metadata": {},
   "outputs": [
    {
     "data": {
      "application/vnd.jupyter.widget-view+json": {
       "model_id": "910a8c9560724ec99eb5cf0fb55a2c14",
       "version_major": 2,
       "version_minor": 0
      },
      "text/plain": [
       "                                             |                                             | [  0%]   00:00 ->…"
      ]
     },
     "metadata": {},
     "output_type": "display_data"
    }
   ],
   "source": [
    "Cln_Travel_Report = sweetviz.compare([Travel_file, \"Travel_File\"], [Clean_Travel, \"clean_travel\"], target_feat='Passport')"
   ]
  },
  {
   "cell_type": "code",
   "execution_count": 8,
   "id": "b8f10807",
   "metadata": {},
   "outputs": [
    {
     "name": "stdout",
     "output_type": "stream",
     "text": [
      "Report SV_Cl_Travel.html was generated! NOTEBOOK/COLAB USERS: the web browser MAY not pop up, regardless, the report IS saved in your notebook/colab files.\n"
     ]
    }
   ],
   "source": [
    "Cln_Travel_Report.show_html(\"SV_Cl_Travel.html\")"
   ]
  },
  {
   "cell_type": "code",
   "execution_count": null,
   "id": "bfbc20c8",
   "metadata": {},
   "outputs": [],
   "source": []
  }
 ],
 "metadata": {
  "kernelspec": {
   "display_name": "Python 3",
   "language": "python",
   "name": "python3"
  },
  "language_info": {
   "codemirror_mode": {
    "name": "ipython",
    "version": 3
   },
   "file_extension": ".py",
   "mimetype": "text/x-python",
   "name": "python",
   "nbconvert_exporter": "python",
   "pygments_lexer": "ipython3",
   "version": "3.8.8"
  }
 },
 "nbformat": 4,
 "nbformat_minor": 5
}

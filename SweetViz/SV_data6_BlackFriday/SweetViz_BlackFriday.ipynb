{
 "cells": [
  {
   "cell_type": "code",
   "execution_count": 1,
   "id": "144f0a9e",
   "metadata": {},
   "outputs": [
    {
     "name": "stdout",
     "output_type": "stream",
     "text": [
      "Requirement already satisfied: sweetviz in c:\\users\\abhijeet\\anaconda3\\lib\\site-packages (2.1.4)\n",
      "Requirement already satisfied: importlib-resources>=1.2.0 in c:\\users\\abhijeet\\anaconda3\\lib\\site-packages (from sweetviz) (5.9.0)\n",
      "Requirement already satisfied: matplotlib>=3.1.3 in c:\\users\\abhijeet\\anaconda3\\lib\\site-packages (from sweetviz) (3.3.4)\n",
      "Requirement already satisfied: scipy>=1.3.2 in c:\\users\\abhijeet\\anaconda3\\lib\\site-packages (from sweetviz) (1.6.2)\n",
      "Requirement already satisfied: jinja2>=2.11.1 in c:\\users\\abhijeet\\anaconda3\\lib\\site-packages (from sweetviz) (2.11.3)\n",
      "Requirement already satisfied: tqdm>=4.43.0 in c:\\users\\abhijeet\\anaconda3\\lib\\site-packages (from sweetviz) (4.59.0)\n",
      "Requirement already satisfied: numpy>=1.16.0 in c:\\users\\abhijeet\\anaconda3\\lib\\site-packages (from sweetviz) (1.20.1)\n",
      "Requirement already satisfied: pandas!=1.0.0,!=1.0.1,!=1.0.2,>=0.25.3 in c:\\users\\abhijeet\\anaconda3\\lib\\site-packages (from sweetviz) (1.2.4)\n",
      "Requirement already satisfied: zipp>=3.1.0 in c:\\users\\abhijeet\\anaconda3\\lib\\site-packages (from importlib-resources>=1.2.0->sweetviz) (3.4.1)\n",
      "Requirement already satisfied: MarkupSafe>=0.23 in c:\\users\\abhijeet\\anaconda3\\lib\\site-packages (from jinja2>=2.11.1->sweetviz) (1.1.1)\n",
      "Requirement already satisfied: python-dateutil>=2.1 in c:\\users\\abhijeet\\anaconda3\\lib\\site-packages (from matplotlib>=3.1.3->sweetviz) (2.8.1)\n",
      "Requirement already satisfied: pyparsing!=2.0.4,!=2.1.2,!=2.1.6,>=2.0.3 in c:\\users\\abhijeet\\anaconda3\\lib\\site-packages (from matplotlib>=3.1.3->sweetviz) (2.4.7)\n",
      "Requirement already satisfied: kiwisolver>=1.0.1 in c:\\users\\abhijeet\\anaconda3\\lib\\site-packages (from matplotlib>=3.1.3->sweetviz) (1.3.1)\n",
      "Requirement already satisfied: cycler>=0.10 in c:\\users\\abhijeet\\anaconda3\\lib\\site-packages (from matplotlib>=3.1.3->sweetviz) (0.10.0)\n",
      "Requirement already satisfied: pillow>=6.2.0 in c:\\users\\abhijeet\\anaconda3\\lib\\site-packages (from matplotlib>=3.1.3->sweetviz) (8.2.0)\n",
      "Requirement already satisfied: six in c:\\users\\abhijeet\\anaconda3\\lib\\site-packages (from cycler>=0.10->matplotlib>=3.1.3->sweetviz) (1.15.0)\n",
      "Requirement already satisfied: pytz>=2017.3 in c:\\users\\abhijeet\\anaconda3\\lib\\site-packages (from pandas!=1.0.0,!=1.0.1,!=1.0.2,>=0.25.3->sweetviz) (2021.1)\n"
     ]
    }
   ],
   "source": [
    "!pip install sweetviz"
   ]
  },
  {
   "cell_type": "code",
   "execution_count": 2,
   "id": "de7fbf4f",
   "metadata": {},
   "outputs": [],
   "source": [
    "import sweetviz\n",
    "import pandas as pd"
   ]
  },
  {
   "cell_type": "code",
   "execution_count": 3,
   "id": "ea244718",
   "metadata": {},
   "outputs": [],
   "source": [
    "blfri_test_file = pd.read_csv(r'C:\\Users\\Abhijeet\\Downloads\\JPYTR\\Prof\\SweetViz\\SV_data6_BlackFriday\\blackFriday_test.csv')\n",
    "blfri_train_file = pd.read_csv(r'C:\\Users\\Abhijeet\\Downloads\\JPYTR\\Prof\\SweetViz\\SV_data6_BlackFriday\\blackFriday_train.csv')"
   ]
  },
  {
   "cell_type": "code",
   "execution_count": 4,
   "id": "292f6633",
   "metadata": {},
   "outputs": [
    {
     "data": {
      "application/vnd.jupyter.widget-view+json": {
       "model_id": "470feecc95714faba43feddb76de3e79",
       "version_major": 2,
       "version_minor": 0
      },
      "text/plain": [
       "                                             |                                             | [  0%]   00:00 ->…"
      ]
     },
     "metadata": {},
     "output_type": "display_data"
    }
   ],
   "source": [
    "test_report = sweetviz.analyze([blfri_test_file, 'BlFri_Test'], target_feat=\"Marital_Status\")"
   ]
  },
  {
   "cell_type": "code",
   "execution_count": 5,
   "id": "2f8f7d1d",
   "metadata": {},
   "outputs": [
    {
     "name": "stdout",
     "output_type": "stream",
     "text": [
      "Report SV_BlFri_Test.html was generated! NOTEBOOK/COLAB USERS: the web browser MAY not pop up, regardless, the report IS saved in your notebook/colab files.\n"
     ]
    }
   ],
   "source": [
    "test_report.show_html('SV_BlFri_Test.html')"
   ]
  },
  {
   "cell_type": "code",
   "execution_count": 6,
   "id": "224ce5e9",
   "metadata": {},
   "outputs": [
    {
     "data": {
      "application/vnd.jupyter.widget-view+json": {
       "model_id": "900f95f57f23462288f57e7ce218593a",
       "version_major": 2,
       "version_minor": 0
      },
      "text/plain": [
       "                                             |                                             | [  0%]   00:00 ->…"
      ]
     },
     "metadata": {},
     "output_type": "display_data"
    }
   ],
   "source": [
    "train_report = sweetviz.analyze([blfri_train_file, 'BlFri_Train'], target_feat='Marital_Status')"
   ]
  },
  {
   "cell_type": "code",
   "execution_count": 7,
   "id": "3c3c8e61",
   "metadata": {},
   "outputs": [
    {
     "name": "stdout",
     "output_type": "stream",
     "text": [
      "Report SV_BlFri_Train.html was generated! NOTEBOOK/COLAB USERS: the web browser MAY not pop up, regardless, the report IS saved in your notebook/colab files.\n"
     ]
    }
   ],
   "source": [
    "train_report.show_html(\"SV_BlFri_Train.html\")"
   ]
  },
  {
   "cell_type": "code",
   "execution_count": 8,
   "id": "a6adfd70",
   "metadata": {},
   "outputs": [
    {
     "data": {
      "application/vnd.jupyter.widget-view+json": {
       "model_id": "f2f1c47e699d41e2844fa2b3a463d513",
       "version_major": 2,
       "version_minor": 0
      },
      "text/plain": [
       "                                             |                                             | [  0%]   00:00 ->…"
      ]
     },
     "metadata": {},
     "output_type": "display_data"
    }
   ],
   "source": [
    "comapare_report = sweetviz.compare([blfri_test_file, 'BlFri_Tst'], [blfri_train_file, 'BlFri_Trn'], target_feat='Marital_Status')"
   ]
  },
  {
   "cell_type": "code",
   "execution_count": 9,
   "id": "15d2a174",
   "metadata": {},
   "outputs": [
    {
     "name": "stdout",
     "output_type": "stream",
     "text": [
      "Report SV_BlFri_Compare.html was generated! NOTEBOOK/COLAB USERS: the web browser MAY not pop up, regardless, the report IS saved in your notebook/colab files.\n"
     ]
    }
   ],
   "source": [
    "comapare_report.show_html('SV_BlFri_Compare.html')"
   ]
  },
  {
   "cell_type": "code",
   "execution_count": null,
   "id": "4654401e",
   "metadata": {},
   "outputs": [],
   "source": []
  }
 ],
 "metadata": {
  "kernelspec": {
   "display_name": "Python 3",
   "language": "python",
   "name": "python3"
  },
  "language_info": {
   "codemirror_mode": {
    "name": "ipython",
    "version": 3
   },
   "file_extension": ".py",
   "mimetype": "text/x-python",
   "name": "python",
   "nbconvert_exporter": "python",
   "pygments_lexer": "ipython3",
   "version": "3.8.8"
  }
 },
 "nbformat": 4,
 "nbformat_minor": 5
}
